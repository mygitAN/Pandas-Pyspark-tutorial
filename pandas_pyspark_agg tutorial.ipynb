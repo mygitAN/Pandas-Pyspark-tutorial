{
 "cells": [
  {
   "cell_type": "markdown",
   "metadata": {
    "id": "YDu_V7UhH3aC"
   },
   "source": [
    "# Exploring Spark with Pandas\n"
   ]
  },
  {
   "cell_type": "markdown",
   "metadata": {
    "id": "xVXydFdvH3aE"
   },
   "source": [
    "Using pandas examples, convert the analysis to pyspark. This is useful if you discover your data grows too large for your tooling.\n",
    "\n",
    "The purpose of this notebook is to familiarise yourself you the pyspark API. You are welcome to use the R version of this if you wish. As long as you are able to obtain the correct results. We will be using python in this notebook as it is quite widely used through data science and the community is very large.\n",
    "\n"
   ]
  },
  {
   "cell_type": "markdown",
   "metadata": {
    "id": "SzN7L_B6H3aF"
   },
   "source": [
    "#### Firstly, let's get our spark session"
   ]
  },
  {
   "cell_type": "code",
   "execution_count": null,
   "metadata": {
    "colab": {
     "base_uri": "https://localhost:8080/"
    },
    "id": "T8MWZRYgIgj_",
    "outputId": "17a769c4-1962-4838-e6c0-37ad5c632ca3"
   },
   "outputs": [
    {
     "name": "stdout",
     "output_type": "stream",
     "text": [
      "No LSB modules are available.\n",
      "Distributor ID:\tUbuntu\n",
      "Description:\tUbuntu 18.04.6 LTS\n",
      "Release:\t18.04\n",
      "Codename:\tbionic\n"
     ]
    }
   ],
   "source": [
    "!lsb_release -a"
   ]
  },
  {
   "cell_type": "code",
   "execution_count": null,
   "metadata": {
    "colab": {
     "base_uri": "https://localhost:8080/"
    },
    "id": "02AW2WcXJKh6",
    "outputId": "e7479373-eb3b-44fe-93bc-a3acdeb1dc90"
   },
   "outputs": [
    {
     "name": "stdout",
     "output_type": "stream",
     "text": [
      "\r",
      "0% [Working]\r",
      "            \r",
      "Get:1 http://security.ubuntu.com/ubuntu bionic-security InRelease [88.7 kB]\n",
      "\r",
      "0% [Connecting to archive.ubuntu.com (91.189.91.38)] [1 InRelease 14.2 kB/88.7 \r",
      "                                                                               \r",
      "Hit:2 http://ppa.launchpad.net/c2d4u.team/c2d4u4.0+/ubuntu bionic InRelease\n",
      "\r",
      "0% [Connecting to archive.ubuntu.com (91.189.91.38)] [1 InRelease 83.7 kB/88.7 \r",
      "                                                                               \r",
      "Hit:3 http://ppa.launchpad.net/cran/libgit2/ubuntu bionic InRelease\n",
      "\r",
      "0% [Connecting to archive.ubuntu.com (91.189.91.38)] [1 InRelease 88.7 kB/88.7 \r",
      "0% [Connecting to archive.ubuntu.com (91.189.91.38)] [Connected to cloud.r-proj\r",
      "0% [2 InRelease gpgv 15.9 kB] [Connecting to archive.ubuntu.com (91.189.91.38)]\r",
      "                                                                               \r",
      "Hit:4 https://cloud.r-project.org/bin/linux/ubuntu bionic-cran40/ InRelease\n",
      "\r",
      "0% [2 InRelease gpgv 15.9 kB] [Connecting to archive.ubuntu.com (91.189.91.38)]\r",
      "                                                                               \r",
      "Hit:5 http://ppa.launchpad.net/deadsnakes/ppa/ubuntu bionic InRelease\n",
      "Hit:6 http://ppa.launchpad.net/graphics-drivers/ppa/ubuntu bionic InRelease\n",
      "Hit:7 http://archive.ubuntu.com/ubuntu bionic InRelease\n",
      "Get:8 http://archive.ubuntu.com/ubuntu bionic-updates InRelease [88.7 kB]\n",
      "Ign:9 https://developer.download.nvidia.com/compute/machine-learning/repos/ubuntu1804/x86_64  InRelease\n",
      "Hit:10 https://developer.download.nvidia.com/compute/cuda/repos/ubuntu1804/x86_64  InRelease\n",
      "Hit:11 https://developer.download.nvidia.com/compute/machine-learning/repos/ubuntu1804/x86_64  Release\n",
      "Get:12 http://archive.ubuntu.com/ubuntu bionic-backports InRelease [74.6 kB]\n",
      "Fetched 252 kB in 2s (115 kB/s)\n",
      "Reading package lists... Done\n"
     ]
    }
   ],
   "source": [
    "!apt-get update"
   ]
  },
  {
   "cell_type": "code",
   "execution_count": null,
   "metadata": {
    "id": "2df2Hjy3JWSU"
   },
   "outputs": [],
   "source": [
    "# Install java\n",
    "# NB: Spark requires Java's runtime. It is one of the dependencies of Spark.\n",
    "!apt-get install openjdk-8-jdk-headless -qq > /dev/null"
   ]
  },
  {
   "cell_type": "code",
   "execution_count": null,
   "metadata": {
    "colab": {
     "base_uri": "https://localhost:8080/"
    },
    "id": "PLLlpgTbJ30V",
    "outputId": "2e7804f0-fe1d-4b41-9669-d2ab9a443781"
   },
   "outputs": [
    {
     "name": "stdout",
     "output_type": "stream",
     "text": [
      "--2022-08-13 19:13:56--  https://downloads.apache.org/spark/spark-3.2.2/spark-3.2.2-bin-hadoop2.7.tgz\n",
      "Resolving downloads.apache.org (downloads.apache.org)... 135.181.214.104, 88.99.95.219, 2a01:4f9:3a:2c57::2, ...\n",
      "Connecting to downloads.apache.org (downloads.apache.org)|135.181.214.104|:443... connected.\n",
      "HTTP request sent, awaiting response... 200 OK\n",
      "Length: 272846416 (260M) [application/x-gzip]\n",
      "Saving to: ‘spark-3.2.2-bin-hadoop2.7.tgz.2’\n",
      "\n",
      "spark-3.2.2-bin-had 100%[===================>] 260.21M  80.0MB/s    in 3.4s    \n",
      "\n",
      "2022-08-13 19:14:00 (76.0 MB/s) - ‘spark-3.2.2-bin-hadoop2.7.tgz.2’ saved [272846416/272846416]\n",
      "\n"
     ]
    }
   ],
   "source": [
    "#Get spark \n",
    "!wget https://downloads.apache.org/spark/spark-3.2.2/spark-3.2.2-bin-hadoop2.7.tgz"
   ]
  },
  {
   "cell_type": "code",
   "execution_count": null,
   "metadata": {
    "id": "7k6tA7ShKKFV"
   },
   "outputs": [],
   "source": [
    "#Decompress spark\n",
    "!tar xf spark-3.2.2-bin-hadoop2.7.tgz    #tar command unarchives the folder\n",
    "\n",
    "#Install python package to help with system paths\n",
    "!pip install -q findspark         #python package helps spark connect to local runtime"
   ]
  },
  {
   "cell_type": "code",
   "execution_count": null,
   "metadata": {
    "id": "YAOXvxNBKbou"
   },
   "outputs": [],
   "source": [
    "# Let Colab know where the java and spark folders are\n",
    "\n",
    "import os\n",
    "os.environ[\"JAVA_HOME\"] = \"/usr/lib/jvm/java-8-openjdk-amd64\"\n",
    "os.environ[\"SPARK_HOME\"] = \"/content/spark-3.2.2-bin-hadoop2.7\""
   ]
  },
  {
   "cell_type": "code",
   "execution_count": null,
   "metadata": {
    "id": "iErO1XkHKk0u"
   },
   "outputs": [],
   "source": [
    "# Add pyspark to sys.path using findspark\n",
    "import findspark\n",
    "findspark.init()"
   ]
  },
  {
   "cell_type": "code",
   "execution_count": null,
   "metadata": {
    "id": "0rUz4nQ-H3aG"
   },
   "outputs": [],
   "source": [
    "from pyspark.sql import SparkSession\n",
    "import pandas as pd \n",
    "spark = SparkSession.builder.appName('panda-and-spark').getOrCreate()"
   ]
  },
  {
   "cell_type": "code",
   "execution_count": null,
   "metadata": {
    "colab": {
     "base_uri": "https://localhost:8080/",
     "height": 222
    },
    "id": "PK2QRI-2K5bn",
    "outputId": "cba5d1d6-745f-4cc0-872b-3816882a2635"
   },
   "outputs": [
    {
     "data": {
      "text/html": [
       "\n",
       "            <div>\n",
       "                <p><b>SparkSession - in-memory</b></p>\n",
       "                \n",
       "        <div>\n",
       "            <p><b>SparkContext</b></p>\n",
       "\n",
       "            <p><a href=\"http://c20b2a292b81:4040\">Spark UI</a></p>\n",
       "\n",
       "            <dl>\n",
       "              <dt>Version</dt>\n",
       "                <dd><code>v3.2.2</code></dd>\n",
       "              <dt>Master</dt>\n",
       "                <dd><code>local[*]</code></dd>\n",
       "              <dt>AppName</dt>\n",
       "                <dd><code>panda-and-spark</code></dd>\n",
       "            </dl>\n",
       "        </div>\n",
       "        \n",
       "            </div>\n",
       "        "
      ],
      "text/plain": [
       "<pyspark.sql.session.SparkSession at 0x7fd4534fe410>"
      ]
     },
     "execution_count": 65,
     "metadata": {},
     "output_type": "execute_result"
    }
   ],
   "source": [
    "spark"
   ]
  },
  {
   "cell_type": "markdown",
   "metadata": {
    "id": "BbVIL4MNH3aG"
   },
   "source": [
    "### Overview\n",
    "\n",
    "\n",
    "* Joining two dataframes/data sets\n",
    "* Simple aggregations\n",
    "* Persisting"
   ]
  },
  {
   "cell_type": "markdown",
   "metadata": {
    "id": "8-m5kFo7H3aH"
   },
   "source": [
    "#### JOIN: Pandas\n",
    "\n",
    "We won't use this more in this notebook, but observe how the joins work.\n",
    "\n",
    "We what happens if you change from the default inner join to outer joins."
   ]
  },
  {
   "cell_type": "code",
   "execution_count": null,
   "metadata": {
    "id": "EuAAh01lH3aH"
   },
   "outputs": [],
   "source": [
    "customer_raw = [(1, 'bob', 3462543658686),\n",
    "           (2, 'rob', 9087567565439),\n",
    "           (3, 'tim', 5436586999467),\n",
    "           (4, 'tom', 8349756853250)]\n",
    "\n",
    "customer_cols = ['id', 'name', 'credit_card_number']\n",
    "\n",
    "\n",
    "\n",
    "orders_raw = [(1, 'ketchup', 'bob', 1.20),\n",
    "           (2, 'rutabaga', 'bob', 3.35),\n",
    "           (3, 'fake vegan meat', 'rob', 13.99),\n",
    "           (4, 'cheesey poofs', 'tim', 3.99),\n",
    "           (5, 'ice cream', 'tim', 4.95),\n",
    "           (6, 'protein powder', 'tom', 49.95)]\n",
    "\n",
    "orders_cols = ['id', 'product_name', 'customer', 'price']"
   ]
  },
  {
   "cell_type": "code",
   "execution_count": null,
   "metadata": {
    "colab": {
     "base_uri": "https://localhost:8080/",
     "height": 237
    },
    "id": "6uAjMPKwH3aI",
    "outputId": "1695a946-6592-404b-c5f0-aced50a8dadd"
   },
   "outputs": [
    {
     "data": {
      "text/html": [
       "\n",
       "  <div id=\"df-55174946-7c07-48dd-9e1e-f62404a87112\">\n",
       "    <div class=\"colab-df-container\">\n",
       "      <div>\n",
       "<style scoped>\n",
       "    .dataframe tbody tr th:only-of-type {\n",
       "        vertical-align: middle;\n",
       "    }\n",
       "\n",
       "    .dataframe tbody tr th {\n",
       "        vertical-align: top;\n",
       "    }\n",
       "\n",
       "    .dataframe thead th {\n",
       "        text-align: right;\n",
       "    }\n",
       "</style>\n",
       "<table border=\"1\" class=\"dataframe\">\n",
       "  <thead>\n",
       "    <tr style=\"text-align: right;\">\n",
       "      <th></th>\n",
       "      <th>id_x</th>\n",
       "      <th>name</th>\n",
       "      <th>credit_card_number</th>\n",
       "      <th>id_y</th>\n",
       "      <th>product_name</th>\n",
       "      <th>customer</th>\n",
       "      <th>price</th>\n",
       "    </tr>\n",
       "  </thead>\n",
       "  <tbody>\n",
       "    <tr>\n",
       "      <th>0</th>\n",
       "      <td>1</td>\n",
       "      <td>bob</td>\n",
       "      <td>3462543658686</td>\n",
       "      <td>1</td>\n",
       "      <td>ketchup</td>\n",
       "      <td>bob</td>\n",
       "      <td>1.20</td>\n",
       "    </tr>\n",
       "    <tr>\n",
       "      <th>1</th>\n",
       "      <td>1</td>\n",
       "      <td>bob</td>\n",
       "      <td>3462543658686</td>\n",
       "      <td>2</td>\n",
       "      <td>rutabaga</td>\n",
       "      <td>bob</td>\n",
       "      <td>3.35</td>\n",
       "    </tr>\n",
       "    <tr>\n",
       "      <th>2</th>\n",
       "      <td>2</td>\n",
       "      <td>rob</td>\n",
       "      <td>9087567565439</td>\n",
       "      <td>3</td>\n",
       "      <td>fake vegan meat</td>\n",
       "      <td>rob</td>\n",
       "      <td>13.99</td>\n",
       "    </tr>\n",
       "    <tr>\n",
       "      <th>3</th>\n",
       "      <td>3</td>\n",
       "      <td>tim</td>\n",
       "      <td>5436586999467</td>\n",
       "      <td>4</td>\n",
       "      <td>cheesey poofs</td>\n",
       "      <td>tim</td>\n",
       "      <td>3.99</td>\n",
       "    </tr>\n",
       "    <tr>\n",
       "      <th>4</th>\n",
       "      <td>3</td>\n",
       "      <td>tim</td>\n",
       "      <td>5436586999467</td>\n",
       "      <td>5</td>\n",
       "      <td>ice cream</td>\n",
       "      <td>tim</td>\n",
       "      <td>4.95</td>\n",
       "    </tr>\n",
       "    <tr>\n",
       "      <th>5</th>\n",
       "      <td>4</td>\n",
       "      <td>tom</td>\n",
       "      <td>8349756853250</td>\n",
       "      <td>6</td>\n",
       "      <td>protein powder</td>\n",
       "      <td>tom</td>\n",
       "      <td>49.95</td>\n",
       "    </tr>\n",
       "  </tbody>\n",
       "</table>\n",
       "</div>\n",
       "      <button class=\"colab-df-convert\" onclick=\"convertToInteractive('df-55174946-7c07-48dd-9e1e-f62404a87112')\"\n",
       "              title=\"Convert this dataframe to an interactive table.\"\n",
       "              style=\"display:none;\">\n",
       "        \n",
       "  <svg xmlns=\"http://www.w3.org/2000/svg\" height=\"24px\"viewBox=\"0 0 24 24\"\n",
       "       width=\"24px\">\n",
       "    <path d=\"M0 0h24v24H0V0z\" fill=\"none\"/>\n",
       "    <path d=\"M18.56 5.44l.94 2.06.94-2.06 2.06-.94-2.06-.94-.94-2.06-.94 2.06-2.06.94zm-11 1L8.5 8.5l.94-2.06 2.06-.94-2.06-.94L8.5 2.5l-.94 2.06-2.06.94zm10 10l.94 2.06.94-2.06 2.06-.94-2.06-.94-.94-2.06-.94 2.06-2.06.94z\"/><path d=\"M17.41 7.96l-1.37-1.37c-.4-.4-.92-.59-1.43-.59-.52 0-1.04.2-1.43.59L10.3 9.45l-7.72 7.72c-.78.78-.78 2.05 0 2.83L4 21.41c.39.39.9.59 1.41.59.51 0 1.02-.2 1.41-.59l7.78-7.78 2.81-2.81c.8-.78.8-2.07 0-2.86zM5.41 20L4 18.59l7.72-7.72 1.47 1.35L5.41 20z\"/>\n",
       "  </svg>\n",
       "      </button>\n",
       "      \n",
       "  <style>\n",
       "    .colab-df-container {\n",
       "      display:flex;\n",
       "      flex-wrap:wrap;\n",
       "      gap: 12px;\n",
       "    }\n",
       "\n",
       "    .colab-df-convert {\n",
       "      background-color: #E8F0FE;\n",
       "      border: none;\n",
       "      border-radius: 50%;\n",
       "      cursor: pointer;\n",
       "      display: none;\n",
       "      fill: #1967D2;\n",
       "      height: 32px;\n",
       "      padding: 0 0 0 0;\n",
       "      width: 32px;\n",
       "    }\n",
       "\n",
       "    .colab-df-convert:hover {\n",
       "      background-color: #E2EBFA;\n",
       "      box-shadow: 0px 1px 2px rgba(60, 64, 67, 0.3), 0px 1px 3px 1px rgba(60, 64, 67, 0.15);\n",
       "      fill: #174EA6;\n",
       "    }\n",
       "\n",
       "    [theme=dark] .colab-df-convert {\n",
       "      background-color: #3B4455;\n",
       "      fill: #D2E3FC;\n",
       "    }\n",
       "\n",
       "    [theme=dark] .colab-df-convert:hover {\n",
       "      background-color: #434B5C;\n",
       "      box-shadow: 0px 1px 3px 1px rgba(0, 0, 0, 0.15);\n",
       "      filter: drop-shadow(0px 1px 2px rgba(0, 0, 0, 0.3));\n",
       "      fill: #FFFFFF;\n",
       "    }\n",
       "  </style>\n",
       "\n",
       "      <script>\n",
       "        const buttonEl =\n",
       "          document.querySelector('#df-55174946-7c07-48dd-9e1e-f62404a87112 button.colab-df-convert');\n",
       "        buttonEl.style.display =\n",
       "          google.colab.kernel.accessAllowed ? 'block' : 'none';\n",
       "\n",
       "        async function convertToInteractive(key) {\n",
       "          const element = document.querySelector('#df-55174946-7c07-48dd-9e1e-f62404a87112');\n",
       "          const dataTable =\n",
       "            await google.colab.kernel.invokeFunction('convertToInteractive',\n",
       "                                                     [key], {});\n",
       "          if (!dataTable) return;\n",
       "\n",
       "          const docLinkHtml = 'Like what you see? Visit the ' +\n",
       "            '<a target=\"_blank\" href=https://colab.research.google.com/notebooks/data_table.ipynb>data table notebook</a>'\n",
       "            + ' to learn more about interactive tables.';\n",
       "          element.innerHTML = '';\n",
       "          dataTable['output_type'] = 'display_data';\n",
       "          await google.colab.output.renderOutput(dataTable, element);\n",
       "          const docLink = document.createElement('div');\n",
       "          docLink.innerHTML = docLinkHtml;\n",
       "          element.appendChild(docLink);\n",
       "        }\n",
       "      </script>\n",
       "    </div>\n",
       "  </div>\n",
       "  "
      ],
      "text/plain": [
       "   id_x name  credit_card_number  id_y     product_name customer  price\n",
       "0     1  bob       3462543658686     1          ketchup      bob   1.20\n",
       "1     1  bob       3462543658686     2         rutabaga      bob   3.35\n",
       "2     2  rob       9087567565439     3  fake vegan meat      rob  13.99\n",
       "3     3  tim       5436586999467     4    cheesey poofs      tim   3.99\n",
       "4     3  tim       5436586999467     5        ice cream      tim   4.95\n",
       "5     4  tom       8349756853250     6   protein powder      tom  49.95"
      ]
     },
     "execution_count": 67,
     "metadata": {},
     "output_type": "execute_result"
    }
   ],
   "source": [
    "customer_df = pd.DataFrame(customer_raw, columns=customer_cols)\n",
    "orders_df = pd.DataFrame(orders_raw, columns=orders_cols)\n",
    "\n",
    "customer_df\n",
    "\n",
    "joined_df = pd.merge(customer_df, orders_df, how='inner', left_on='name', right_on='customer')\n",
    "joined_df\n",
    "\n",
    "## For self study. What happens if (4, 'tom', 8349756853250) in valuesA becomes (4, 'tod', 8349756853250)\n",
    "## How do the results change?\n",
    "## More sensibly; what if customers have not made any orders but we still require them in the result set? "
   ]
  },
  {
   "cell_type": "markdown",
   "metadata": {
    "id": "D72LeqdcH3aI"
   },
   "source": [
    "#### JOIN: Spark"
   ]
  },
  {
   "cell_type": "code",
   "execution_count": null,
   "metadata": {
    "colab": {
     "base_uri": "https://localhost:8080/"
    },
    "id": "dHvfbVUZH3aI",
    "outputId": "071dda47-6413-40a0-ad3e-87bda32a385c"
   },
   "outputs": [
    {
     "name": "stdout",
     "output_type": "stream",
     "text": [
      "+---+----+------------------+\n",
      "| id|name|credit_card_number|\n",
      "+---+----+------------------+\n",
      "|  1| bob|     3462543658686|\n",
      "|  2| rob|     9087567565439|\n",
      "|  3| tim|     5436586999467|\n",
      "|  4| tom|     8349756853250|\n",
      "+---+----+------------------+\n",
      "\n",
      "+---+---------------+--------+-----+\n",
      "| id|   product_name|customer|price|\n",
      "+---+---------------+--------+-----+\n",
      "|  1|        ketchup|     bob|  1.2|\n",
      "|  2|       rutabaga|     bob| 3.35|\n",
      "|  3|fake vegan meat|     rob|13.99|\n",
      "|  4|  cheesey poofs|     tim| 3.99|\n",
      "|  5|      ice cream|     tim| 4.95|\n",
      "|  6| protein powder|     tom|49.95|\n",
      "+---+---------------+--------+-----+\n",
      "\n"
     ]
    }
   ],
   "source": [
    "customersDF = spark.createDataFrame(customer_raw, customer_cols)\n",
    "\n",
    "ordersDF = spark.createDataFrame(orders_raw, orders_cols)\n",
    "\n",
    "# Show tables\n",
    "customersDF.show()\n",
    "ordersDF.show()"
   ]
  },
  {
   "cell_type": "code",
   "execution_count": null,
   "metadata": {
    "colab": {
     "base_uri": "https://localhost:8080/"
    },
    "id": "doiEXImDH3aJ",
    "outputId": "87cf0c01-4535-47cd-ad1e-d1c87e383ba5"
   },
   "outputs": [
    {
     "name": "stdout",
     "output_type": "stream",
     "text": [
      "+---+----+------------------+---+---------------+--------+-----+\n",
      "| id|name|credit_card_number| id|   product_name|customer|price|\n",
      "+---+----+------------------+---+---------------+--------+-----+\n",
      "|  1| bob|     3462543658686|  1|        ketchup|     bob|  1.2|\n",
      "|  1| bob|     3462543658686|  2|       rutabaga|     bob| 3.35|\n",
      "|  2| rob|     9087567565439|  3|fake vegan meat|     rob|13.99|\n",
      "|  3| tim|     5436586999467|  4|  cheesey poofs|     tim| 3.99|\n",
      "|  3| tim|     5436586999467|  5|      ice cream|     tim| 4.95|\n",
      "|  4| tom|     8349756853250|  6| protein powder|     tom|49.95|\n",
      "+---+----+------------------+---+---------------+--------+-----+\n",
      "\n"
     ]
    }
   ],
   "source": [
    "joinedDF = customersDF.join(ordersDF, customersDF.name == ordersDF.customer)\n",
    "joinedDF.show()"
   ]
  },
  {
   "cell_type": "markdown",
   "metadata": {
    "id": "LYHAeY1lH3aJ"
   },
   "source": [
    "## Simple Aggregations\n",
    "\n",
    "Now let's explore simple aggregations. You will be using these often when doing exploratory work in big data. Remember, the intention here is that you grow familiar with the way the API works, and how to translate inquiries into that API."
   ]
  },
  {
   "cell_type": "markdown",
   "metadata": {
    "id": "EsiNs3o3H3aJ"
   },
   "source": [
    "> _How much did each person spend?_"
   ]
  },
  {
   "cell_type": "code",
   "execution_count": null,
   "metadata": {
    "colab": {
     "base_uri": "https://localhost:8080/",
     "height": 237
    },
    "id": "azM_2hpYH3aK",
    "outputId": "4e2d53a4-dc19-4ae1-f16a-5e6ff59bbca6"
   },
   "outputs": [
    {
     "data": {
      "text/html": [
       "\n",
       "  <div id=\"df-a079a698-60a6-49b4-843b-54f33cff84a8\">\n",
       "    <div class=\"colab-df-container\">\n",
       "      <div>\n",
       "<style scoped>\n",
       "    .dataframe tbody tr th:only-of-type {\n",
       "        vertical-align: middle;\n",
       "    }\n",
       "\n",
       "    .dataframe tbody tr th {\n",
       "        vertical-align: top;\n",
       "    }\n",
       "\n",
       "    .dataframe thead tr th {\n",
       "        text-align: left;\n",
       "    }\n",
       "\n",
       "    .dataframe thead tr:last-of-type th {\n",
       "        text-align: right;\n",
       "    }\n",
       "</style>\n",
       "<table border=\"1\" class=\"dataframe\">\n",
       "  <thead>\n",
       "    <tr>\n",
       "      <th></th>\n",
       "      <th>price</th>\n",
       "    </tr>\n",
       "    <tr>\n",
       "      <th></th>\n",
       "      <th>sum</th>\n",
       "    </tr>\n",
       "    <tr>\n",
       "      <th>name</th>\n",
       "      <th></th>\n",
       "    </tr>\n",
       "  </thead>\n",
       "  <tbody>\n",
       "    <tr>\n",
       "      <th>bob</th>\n",
       "      <td>4.55</td>\n",
       "    </tr>\n",
       "    <tr>\n",
       "      <th>rob</th>\n",
       "      <td>13.99</td>\n",
       "    </tr>\n",
       "    <tr>\n",
       "      <th>tim</th>\n",
       "      <td>8.94</td>\n",
       "    </tr>\n",
       "    <tr>\n",
       "      <th>tom</th>\n",
       "      <td>49.95</td>\n",
       "    </tr>\n",
       "  </tbody>\n",
       "</table>\n",
       "</div>\n",
       "      <button class=\"colab-df-convert\" onclick=\"convertToInteractive('df-a079a698-60a6-49b4-843b-54f33cff84a8')\"\n",
       "              title=\"Convert this dataframe to an interactive table.\"\n",
       "              style=\"display:none;\">\n",
       "        \n",
       "  <svg xmlns=\"http://www.w3.org/2000/svg\" height=\"24px\"viewBox=\"0 0 24 24\"\n",
       "       width=\"24px\">\n",
       "    <path d=\"M0 0h24v24H0V0z\" fill=\"none\"/>\n",
       "    <path d=\"M18.56 5.44l.94 2.06.94-2.06 2.06-.94-2.06-.94-.94-2.06-.94 2.06-2.06.94zm-11 1L8.5 8.5l.94-2.06 2.06-.94-2.06-.94L8.5 2.5l-.94 2.06-2.06.94zm10 10l.94 2.06.94-2.06 2.06-.94-2.06-.94-.94-2.06-.94 2.06-2.06.94z\"/><path d=\"M17.41 7.96l-1.37-1.37c-.4-.4-.92-.59-1.43-.59-.52 0-1.04.2-1.43.59L10.3 9.45l-7.72 7.72c-.78.78-.78 2.05 0 2.83L4 21.41c.39.39.9.59 1.41.59.51 0 1.02-.2 1.41-.59l7.78-7.78 2.81-2.81c.8-.78.8-2.07 0-2.86zM5.41 20L4 18.59l7.72-7.72 1.47 1.35L5.41 20z\"/>\n",
       "  </svg>\n",
       "      </button>\n",
       "      \n",
       "  <style>\n",
       "    .colab-df-container {\n",
       "      display:flex;\n",
       "      flex-wrap:wrap;\n",
       "      gap: 12px;\n",
       "    }\n",
       "\n",
       "    .colab-df-convert {\n",
       "      background-color: #E8F0FE;\n",
       "      border: none;\n",
       "      border-radius: 50%;\n",
       "      cursor: pointer;\n",
       "      display: none;\n",
       "      fill: #1967D2;\n",
       "      height: 32px;\n",
       "      padding: 0 0 0 0;\n",
       "      width: 32px;\n",
       "    }\n",
       "\n",
       "    .colab-df-convert:hover {\n",
       "      background-color: #E2EBFA;\n",
       "      box-shadow: 0px 1px 2px rgba(60, 64, 67, 0.3), 0px 1px 3px 1px rgba(60, 64, 67, 0.15);\n",
       "      fill: #174EA6;\n",
       "    }\n",
       "\n",
       "    [theme=dark] .colab-df-convert {\n",
       "      background-color: #3B4455;\n",
       "      fill: #D2E3FC;\n",
       "    }\n",
       "\n",
       "    [theme=dark] .colab-df-convert:hover {\n",
       "      background-color: #434B5C;\n",
       "      box-shadow: 0px 1px 3px 1px rgba(0, 0, 0, 0.15);\n",
       "      filter: drop-shadow(0px 1px 2px rgba(0, 0, 0, 0.3));\n",
       "      fill: #FFFFFF;\n",
       "    }\n",
       "  </style>\n",
       "\n",
       "      <script>\n",
       "        const buttonEl =\n",
       "          document.querySelector('#df-a079a698-60a6-49b4-843b-54f33cff84a8 button.colab-df-convert');\n",
       "        buttonEl.style.display =\n",
       "          google.colab.kernel.accessAllowed ? 'block' : 'none';\n",
       "\n",
       "        async function convertToInteractive(key) {\n",
       "          const element = document.querySelector('#df-a079a698-60a6-49b4-843b-54f33cff84a8');\n",
       "          const dataTable =\n",
       "            await google.colab.kernel.invokeFunction('convertToInteractive',\n",
       "                                                     [key], {});\n",
       "          if (!dataTable) return;\n",
       "\n",
       "          const docLinkHtml = 'Like what you see? Visit the ' +\n",
       "            '<a target=\"_blank\" href=https://colab.research.google.com/notebooks/data_table.ipynb>data table notebook</a>'\n",
       "            + ' to learn more about interactive tables.';\n",
       "          element.innerHTML = '';\n",
       "          dataTable['output_type'] = 'display_data';\n",
       "          await google.colab.output.renderOutput(dataTable, element);\n",
       "          const docLink = document.createElement('div');\n",
       "          docLink.innerHTML = docLinkHtml;\n",
       "          element.appendChild(docLink);\n",
       "        }\n",
       "      </script>\n",
       "    </div>\n",
       "  </div>\n",
       "  "
      ],
      "text/plain": [
       "      price\n",
       "        sum\n",
       "name       \n",
       "bob    4.55\n",
       "rob   13.99\n",
       "tim    8.94\n",
       "tom   49.95"
      ]
     },
     "execution_count": 70,
     "metadata": {},
     "output_type": "execute_result"
    }
   ],
   "source": [
    "joined_df.groupby('name').agg({\"price\": [\"sum\"]}) "
   ]
  },
  {
   "cell_type": "code",
   "execution_count": null,
   "metadata": {
    "colab": {
     "base_uri": "https://localhost:8080/"
    },
    "id": "uJ3fxgInH3aK",
    "outputId": "1f98dc98-6469-474e-d961-6c650c639496"
   },
   "outputs": [
    {
     "name": "stdout",
     "output_type": "stream",
     "text": [
      "+----+-----------------+\n",
      "|name|            total|\n",
      "+----+-----------------+\n",
      "| bob|             4.55|\n",
      "| rob|            13.99|\n",
      "| tim|8.940000000000001|\n",
      "| tom|            49.95|\n",
      "+----+-----------------+\n",
      "\n"
     ]
    }
   ],
   "source": [
    "import pyspark.sql.functions as f\n",
    "\n",
    "joinedDF.groupby('name').agg(f.sum('price').alias('total')).show()"
   ]
  },
  {
   "cell_type": "markdown",
   "metadata": {
    "id": "Ra_snyxMH3aK"
   },
   "source": [
    "Let's use bigger data\n",
    "  * NYC crash data"
   ]
  },
  {
   "cell_type": "code",
   "execution_count": null,
   "metadata": {
    "id": "_FO2d1aTH3aK"
   },
   "outputs": [],
   "source": [
    "# save to the filesystem to prevent another load\n",
    "# ! curl -o rows.csv https://data.cityofnewyork.us/api/views/h9gi-nx95/rows.csv"
   ]
  },
  {
   "cell_type": "code",
   "execution_count": null,
   "metadata": {
    "colab": {
     "base_uri": "https://localhost:8080/"
    },
    "id": "8Alw2r1ULqsU",
    "outputId": "434ba516-0422-439a-855d-8c8937e94368"
   },
   "outputs": [
    {
     "name": "stdout",
     "output_type": "stream",
     "text": [
      "--2022-08-13 19:14:18--  https://data.cityofnewyork.us/api/views/h9gi-nx95/rows.csv\n",
      "Resolving data.cityofnewyork.us (data.cityofnewyork.us)... 52.206.68.26, 52.206.140.199, 52.206.140.205\n",
      "Connecting to data.cityofnewyork.us (data.cityofnewyork.us)|52.206.68.26|:443... connected.\n",
      "HTTP request sent, awaiting response... 200 OK\n",
      "Length: unspecified [text/csv]\n",
      "Saving to: ‘rows.csv.2’\n",
      "\n",
      "rows.csv.2              [        <=>         ] 391.42M  2.64MB/s    in 3m 25s  \n",
      "\n",
      "2022-08-13 19:17:43 (1.91 MB/s) - ‘rows.csv.2’ saved [410439552]\n",
      "\n"
     ]
    }
   ],
   "source": [
    "! wget \"https://data.cityofnewyork.us/api/views/h9gi-nx95/rows.csv\""
   ]
  },
  {
   "cell_type": "code",
   "execution_count": null,
   "metadata": {
    "id": "nexwSaE-MZ5W"
   },
   "outputs": [],
   "source": [
    "# ! curl -o rows.csv"
   ]
  },
  {
   "cell_type": "code",
   "execution_count": null,
   "metadata": {
    "colab": {
     "base_uri": "https://localhost:8080/"
    },
    "id": "cvz-MJ7dH3aL",
    "outputId": "761a5760-c680-40b5-c65d-caaac7508350"
   },
   "outputs": [
    {
     "name": "stderr",
     "output_type": "stream",
     "text": [
      "/usr/local/lib/python3.7/dist-packages/IPython/core/interactiveshell.py:2882: DtypeWarning: Columns (3) have mixed types.Specify dtype option on import or set low_memory=False.\n",
      "  exec(code_obj, self.user_global_ns, self.user_ns)\n"
     ]
    }
   ],
   "source": [
    "import pandas as pd\n",
    "nyc_df = pd.read_csv('rows.csv')"
   ]
  },
  {
   "cell_type": "code",
   "execution_count": null,
   "metadata": {
    "colab": {
     "base_uri": "https://localhost:8080/"
    },
    "id": "R1JJZAM9H3aL",
    "outputId": "1e92c3c9-dfaa-4a97-b79e-c6a1bb139504"
   },
   "outputs": [
    {
     "name": "stdout",
     "output_type": "stream",
     "text": [
      "1917681\n"
     ]
    }
   ],
   "source": [
    "# number or rows\n",
    "\n",
    "print(len(nyc_df))\n",
    "\n",
    "# this is quite large so we will work with a sample while we experiment in pandas as least."
   ]
  },
  {
   "cell_type": "markdown",
   "metadata": {
    "id": "m4q84ggoH3aM"
   },
   "source": [
    "We'll take a random sample at 20% of the original data"
   ]
  },
  {
   "cell_type": "code",
   "execution_count": null,
   "metadata": {
    "id": "Z4dIN5tlH3aM"
   },
   "outputs": [],
   "source": [
    "nyc_small = nyc_df.sample(frac=0.2, replace=False, random_state=1)"
   ]
  },
  {
   "cell_type": "code",
   "execution_count": null,
   "metadata": {
    "id": "i4UW0kI3H3aM"
   },
   "outputs": [],
   "source": [
    "# we are also going to limit the columns to those we are going to work with\n",
    "\n",
    "nyc_small = nyc_small[['CRASH DATE', 'CONTRIBUTING FACTOR VEHICLE 1', \n",
    "                       'BOROUGH', 'VEHICLE TYPE CODE 1', \n",
    "                       'NUMBER OF PERSONS INJURED']]"
   ]
  },
  {
   "cell_type": "code",
   "execution_count": null,
   "metadata": {
    "colab": {
     "base_uri": "https://localhost:8080/",
     "height": 112
    },
    "id": "OZC43weSH3aN",
    "outputId": "ad13db0e-4336-4a77-de4f-7c8c7e2ea324"
   },
   "outputs": [
    {
     "data": {
      "text/html": [
       "\n",
       "  <div id=\"df-77160740-c163-4e5f-bb8b-d2ea776fbb49\">\n",
       "    <div class=\"colab-df-container\">\n",
       "      <div>\n",
       "<style scoped>\n",
       "    .dataframe tbody tr th:only-of-type {\n",
       "        vertical-align: middle;\n",
       "    }\n",
       "\n",
       "    .dataframe tbody tr th {\n",
       "        vertical-align: top;\n",
       "    }\n",
       "\n",
       "    .dataframe thead th {\n",
       "        text-align: right;\n",
       "    }\n",
       "</style>\n",
       "<table border=\"1\" class=\"dataframe\">\n",
       "  <thead>\n",
       "    <tr style=\"text-align: right;\">\n",
       "      <th></th>\n",
       "      <th>CRASH DATE</th>\n",
       "      <th>CONTRIBUTING FACTOR VEHICLE 1</th>\n",
       "      <th>BOROUGH</th>\n",
       "      <th>VEHICLE TYPE CODE 1</th>\n",
       "      <th>NUMBER OF PERSONS INJURED</th>\n",
       "    </tr>\n",
       "  </thead>\n",
       "  <tbody>\n",
       "    <tr>\n",
       "      <th>797894</th>\n",
       "      <td>09/13/2017</td>\n",
       "      <td>Unspecified</td>\n",
       "      <td>NaN</td>\n",
       "      <td>Sedan</td>\n",
       "      <td>0.0</td>\n",
       "    </tr>\n",
       "    <tr>\n",
       "      <th>461101</th>\n",
       "      <td>03/23/2019</td>\n",
       "      <td>Following Too Closely</td>\n",
       "      <td>MANHATTAN</td>\n",
       "      <td>Station Wagon/Sport Utility Vehicle</td>\n",
       "      <td>0.0</td>\n",
       "    </tr>\n",
       "  </tbody>\n",
       "</table>\n",
       "</div>\n",
       "      <button class=\"colab-df-convert\" onclick=\"convertToInteractive('df-77160740-c163-4e5f-bb8b-d2ea776fbb49')\"\n",
       "              title=\"Convert this dataframe to an interactive table.\"\n",
       "              style=\"display:none;\">\n",
       "        \n",
       "  <svg xmlns=\"http://www.w3.org/2000/svg\" height=\"24px\"viewBox=\"0 0 24 24\"\n",
       "       width=\"24px\">\n",
       "    <path d=\"M0 0h24v24H0V0z\" fill=\"none\"/>\n",
       "    <path d=\"M18.56 5.44l.94 2.06.94-2.06 2.06-.94-2.06-.94-.94-2.06-.94 2.06-2.06.94zm-11 1L8.5 8.5l.94-2.06 2.06-.94-2.06-.94L8.5 2.5l-.94 2.06-2.06.94zm10 10l.94 2.06.94-2.06 2.06-.94-2.06-.94-.94-2.06-.94 2.06-2.06.94z\"/><path d=\"M17.41 7.96l-1.37-1.37c-.4-.4-.92-.59-1.43-.59-.52 0-1.04.2-1.43.59L10.3 9.45l-7.72 7.72c-.78.78-.78 2.05 0 2.83L4 21.41c.39.39.9.59 1.41.59.51 0 1.02-.2 1.41-.59l7.78-7.78 2.81-2.81c.8-.78.8-2.07 0-2.86zM5.41 20L4 18.59l7.72-7.72 1.47 1.35L5.41 20z\"/>\n",
       "  </svg>\n",
       "      </button>\n",
       "      \n",
       "  <style>\n",
       "    .colab-df-container {\n",
       "      display:flex;\n",
       "      flex-wrap:wrap;\n",
       "      gap: 12px;\n",
       "    }\n",
       "\n",
       "    .colab-df-convert {\n",
       "      background-color: #E8F0FE;\n",
       "      border: none;\n",
       "      border-radius: 50%;\n",
       "      cursor: pointer;\n",
       "      display: none;\n",
       "      fill: #1967D2;\n",
       "      height: 32px;\n",
       "      padding: 0 0 0 0;\n",
       "      width: 32px;\n",
       "    }\n",
       "\n",
       "    .colab-df-convert:hover {\n",
       "      background-color: #E2EBFA;\n",
       "      box-shadow: 0px 1px 2px rgba(60, 64, 67, 0.3), 0px 1px 3px 1px rgba(60, 64, 67, 0.15);\n",
       "      fill: #174EA6;\n",
       "    }\n",
       "\n",
       "    [theme=dark] .colab-df-convert {\n",
       "      background-color: #3B4455;\n",
       "      fill: #D2E3FC;\n",
       "    }\n",
       "\n",
       "    [theme=dark] .colab-df-convert:hover {\n",
       "      background-color: #434B5C;\n",
       "      box-shadow: 0px 1px 3px 1px rgba(0, 0, 0, 0.15);\n",
       "      filter: drop-shadow(0px 1px 2px rgba(0, 0, 0, 0.3));\n",
       "      fill: #FFFFFF;\n",
       "    }\n",
       "  </style>\n",
       "\n",
       "      <script>\n",
       "        const buttonEl =\n",
       "          document.querySelector('#df-77160740-c163-4e5f-bb8b-d2ea776fbb49 button.colab-df-convert');\n",
       "        buttonEl.style.display =\n",
       "          google.colab.kernel.accessAllowed ? 'block' : 'none';\n",
       "\n",
       "        async function convertToInteractive(key) {\n",
       "          const element = document.querySelector('#df-77160740-c163-4e5f-bb8b-d2ea776fbb49');\n",
       "          const dataTable =\n",
       "            await google.colab.kernel.invokeFunction('convertToInteractive',\n",
       "                                                     [key], {});\n",
       "          if (!dataTable) return;\n",
       "\n",
       "          const docLinkHtml = 'Like what you see? Visit the ' +\n",
       "            '<a target=\"_blank\" href=https://colab.research.google.com/notebooks/data_table.ipynb>data table notebook</a>'\n",
       "            + ' to learn more about interactive tables.';\n",
       "          element.innerHTML = '';\n",
       "          dataTable['output_type'] = 'display_data';\n",
       "          await google.colab.output.renderOutput(dataTable, element);\n",
       "          const docLink = document.createElement('div');\n",
       "          docLink.innerHTML = docLinkHtml;\n",
       "          element.appendChild(docLink);\n",
       "        }\n",
       "      </script>\n",
       "    </div>\n",
       "  </div>\n",
       "  "
      ],
      "text/plain": [
       "        CRASH DATE CONTRIBUTING FACTOR VEHICLE 1    BOROUGH  \\\n",
       "797894  09/13/2017                   Unspecified        NaN   \n",
       "461101  03/23/2019         Following Too Closely  MANHATTAN   \n",
       "\n",
       "                        VEHICLE TYPE CODE 1  NUMBER OF PERSONS INJURED  \n",
       "797894                                Sedan                        0.0  \n",
       "461101  Station Wagon/Sport Utility Vehicle                        0.0  "
      ]
     },
     "execution_count": 79,
     "metadata": {},
     "output_type": "execute_result"
    }
   ],
   "source": [
    "nyc_small.head(2)"
   ]
  },
  {
   "cell_type": "markdown",
   "metadata": {
    "id": "7IeShKDpH3aN"
   },
   "source": [
    "Now, let's create the pyspark dataframe. Now we two frames with the same content\n",
    "  * nyc_small: pandas\n",
    "  * sdf_small: pyspark"
   ]
  },
  {
   "cell_type": "code",
   "execution_count": null,
   "metadata": {
    "colab": {
     "base_uri": "https://localhost:8080/"
    },
    "id": "trbIl4BWH3aN",
    "outputId": "46724c59-34a4-4a1f-fa97-b581aa2862c6"
   },
   "outputs": [
    {
     "name": "stderr",
     "output_type": "stream",
     "text": [
      "/content/spark-3.2.2-bin-hadoop2.7/python/pyspark/sql/context.py:79: FutureWarning: Deprecated in 3.0.0. Use SparkSession.builder.getOrCreate() instead.\n",
      "  FutureWarning\n"
     ]
    },
    {
     "name": "stdout",
     "output_type": "stream",
     "text": [
      "StructType(List(StructField(CRASH DATE,StringType,true),StructField(CONTRIBUTING FACTOR VEHICLE 1,StringType,true),StructField(BOROUGH,StringType,true),StructField(VEHICLE TYPE CODE 1,StringType,true),StructField(NUMBER OF PERSONS INJURED,StringType,true)))\n"
     ]
    }
   ],
   "source": [
    "from pyspark.sql import SQLContext\n",
    "\n",
    "\n",
    "# there are nan's in the frame with strings, and spark can't 'infer the schema', so we have to help it out \n",
    "# by replacing them with empty strings and forcing the column to be a string\n",
    "\n",
    "sdf_small = SQLContext(spark).createDataFrame(nyc_small.fillna('').astype('str'))\n",
    "\n",
    "\n",
    "# Lets check the schema quickly\n",
    "\n",
    "print(sdf_small.schema)"
   ]
  },
  {
   "cell_type": "markdown",
   "metadata": {
    "id": "5ZRuq8RMH3aN"
   },
   "source": [
    "# Questions\n",
    "\n",
    "Answer the following questions by porting the pandas code to the Spark API\n"
   ]
  },
  {
   "cell_type": "markdown",
   "metadata": {
    "id": "KQz0KBY-H3aO"
   },
   "source": [
    "\n",
    "# Question 1\n",
    "\n",
    "\n",
    "> On what day do most crashes occcur?"
   ]
  },
  {
   "cell_type": "code",
   "execution_count": null,
   "metadata": {
    "colab": {
     "base_uri": "https://localhost:8080/"
    },
    "id": "p2OTkPP_H3aO",
    "outputId": "7a39a9ac-9849-427d-db69-d036d6b1e096"
   },
   "outputs": [
    {
     "data": {
      "text/plain": [
       "CRASH DATE\n",
       "01/21/2014    256\n",
       "11/15/2018    202\n",
       "01/07/2017    194\n",
       "12/15/2017    194\n",
       "02/03/2014    193\n",
       "Name: CRASH DATE, dtype: int64"
      ]
     },
     "execution_count": 81,
     "metadata": {},
     "output_type": "execute_result"
    }
   ],
   "source": [
    "# Pandas\n",
    "nyc_small.groupby('CRASH DATE')['CRASH DATE'].count().sort_values(ascending=False).head(5)"
   ]
  },
  {
   "cell_type": "code",
   "execution_count": null,
   "metadata": {
    "colab": {
     "base_uri": "https://localhost:8080/"
    },
    "id": "7eYdENa_H3aO",
    "outputId": "811a6090-253b-4663-ce33-12b5424e0836"
   },
   "outputs": [
    {
     "name": "stdout",
     "output_type": "stream",
     "text": [
      "+----------+-----------------------------+-------------+--------------------+-------------------------+\n",
      "|CRASH DATE|CONTRIBUTING FACTOR VEHICLE 1|      BOROUGH| VEHICLE TYPE CODE 1|NUMBER OF PERSONS INJURED|\n",
      "+----------+-----------------------------+-------------+--------------------+-------------------------+\n",
      "|09/13/2017|                  Unspecified|             |               Sedan|                      0.0|\n",
      "|03/23/2019|         Following Too Clo...|    MANHATTAN|Station Wagon/Spo...|                      0.0|\n",
      "|07/24/2015|                  Unspecified|       QUEENS|   PASSENGER VEHICLE|                      0.0|\n",
      "|01/30/2019|         Driver Inattentio...|     BROOKLYN|               Sedan|                      0.0|\n",
      "|07/15/2014|          Driver Inexperience|        BRONX|SPORT UTILITY / S...|                      0.0|\n",
      "|11/30/2018|         Driver Inattentio...|             |               Sedan|                      0.0|\n",
      "|05/03/2014|              Fatigued/Drowsy|             |      LIVERY VEHICLE|                      2.0|\n",
      "|04/21/2018|         Following Too Clo...|     BROOKLYN|               Sedan|                      0.0|\n",
      "|02/13/2017|              Other Vehicular|        BRONX|               Sedan|                      1.0|\n",
      "|05/13/2013|                             |    MANHATTAN|   PASSENGER VEHICLE|                      0.0|\n",
      "|09/30/2012|          Driver Inexperience|STATEN ISLAND|   PASSENGER VEHICLE|                      0.0|\n",
      "|05/27/2017|         Driver Inattentio...|        BRONX|               Sedan|                      0.0|\n",
      "|06/18/2013|          Physical Disability|             |   PASSENGER VEHICLE|                      0.0|\n",
      "|11/04/2016|              Other Vehicular|    MANHATTAN|                Taxi|                      0.0|\n",
      "|12/27/2016|                  Unspecified|       QUEENS|               Sedan|                      0.0|\n",
      "|09/16/2018|         Driver Inattentio...|       QUEENS|               Sedan|                      0.0|\n",
      "|05/01/2020|                  Unspecified|     BROOKLYN|Station Wagon/Spo...|                      1.0|\n",
      "|11/01/2015|           Lost Consciousness|    MANHATTAN|   PASSENGER VEHICLE|                      0.0|\n",
      "|12/10/2018|         Following Too Clo...|     BROOKLYN|               Sedan|                      0.0|\n",
      "|06/28/2013|                  Unspecified|             |             UNKNOWN|                      0.0|\n",
      "+----------+-----------------------------+-------------+--------------------+-------------------------+\n",
      "only showing top 20 rows\n",
      "\n"
     ]
    }
   ],
   "source": [
    "### Spark?\n",
    "sdf_small.show()"
   ]
  },
  {
   "cell_type": "code",
   "execution_count": null,
   "metadata": {
    "id": "4dz8NTQOKj1S"
   },
   "outputs": [],
   "source": [
    "from pyspark.sql.functions import desc"
   ]
  },
  {
   "cell_type": "code",
   "execution_count": null,
   "metadata": {
    "colab": {
     "base_uri": "https://localhost:8080/"
    },
    "id": "hjsmSgthJjO8",
    "outputId": "642392a1-7758-4dd4-f694-68862b20edc0"
   },
   "outputs": [
    {
     "name": "stdout",
     "output_type": "stream",
     "text": [
      "+----------+-----+\n",
      "|CRASH DATE|count|\n",
      "+----------+-----+\n",
      "|01/21/2014|  256|\n",
      "|11/15/2018|  202|\n",
      "|01/07/2017|  194|\n",
      "|12/15/2017|  194|\n",
      "|02/03/2014|  193|\n",
      "+----------+-----+\n",
      "only showing top 5 rows\n",
      "\n"
     ]
    }
   ],
   "source": [
    "df = sdf_small.groupBy(\"CRASH DATE\").count().sort(desc(\"count\"))  #alternatively instead of grouping by count we can use .alias(\"sum of crash date\") within the count function\n",
    "df.show(5)"
   ]
  },
  {
   "cell_type": "markdown",
   "metadata": {
    "id": "_6mUaLAbH3aO"
   },
   "source": [
    "# Question 2\n",
    "\n",
    "> _Where do most crashes occur?_"
   ]
  },
  {
   "cell_type": "code",
   "execution_count": null,
   "metadata": {
    "colab": {
     "base_uri": "https://localhost:8080/"
    },
    "id": "McNydSiYH3aO",
    "outputId": "665d07b6-003f-4242-f070-b9eb3c92726c"
   },
   "outputs": [
    {
     "data": {
      "text/plain": [
       "BOROUGH\n",
       "BROOKLYN         83897\n",
       "QUEENS           71074\n",
       "MANHATTAN        60108\n",
       "BRONX            38494\n",
       "STATEN ISLAND    11098\n",
       "Name: BOROUGH, dtype: int64"
      ]
     },
     "execution_count": 85,
     "metadata": {},
     "output_type": "execute_result"
    }
   ],
   "source": [
    "nyc_small.groupby('BOROUGH')['BOROUGH'].count().sort_values(ascending=False).head(5)"
   ]
  },
  {
   "cell_type": "code",
   "execution_count": null,
   "metadata": {
    "colab": {
     "base_uri": "https://localhost:8080/"
    },
    "id": "NX6nyGHVH3aP",
    "outputId": "91799ccf-c10e-409b-e15c-3be04d7c4979"
   },
   "outputs": [
    {
     "name": "stdout",
     "output_type": "stream",
     "text": [
      "+-------------+------+\n",
      "|      BOROUGH| count|\n",
      "+-------------+------+\n",
      "|             |118865|\n",
      "|     BROOKLYN| 83897|\n",
      "|       QUEENS| 71074|\n",
      "|    MANHATTAN| 60108|\n",
      "|        BRONX| 38494|\n",
      "|STATEN ISLAND| 11098|\n",
      "+-------------+------+\n",
      "\n"
     ]
    }
   ],
   "source": [
    "## Spark?\n",
    "df2 = sdf_small.groupBy(\"BOROUGH\").count().sort(desc(\"count\"))  \n",
    "df2.show()\n"
   ]
  },
  {
   "cell_type": "markdown",
   "metadata": {
    "id": "7PmzaV06H3aP"
   },
   "source": [
    " # Question 3\n",
    " \n",
    " > What is the most common cause of accident in 'QUEENS'"
   ]
  },
  {
   "cell_type": "code",
   "execution_count": null,
   "metadata": {
    "colab": {
     "base_uri": "https://localhost:8080/"
    },
    "id": "Mp1ezT7TH3aP",
    "outputId": "3ab83341-aba5-4f04-cb7e-d28c51153bf1"
   },
   "outputs": [
    {
     "data": {
      "text/plain": [
       "CONTRIBUTING FACTOR VEHICLE 1\n",
       "Unspecified                       25758\n",
       "Driver Inattention/Distraction    14987\n",
       "Failure to Yield Right-of-Way      5957\n",
       "Backing Unsafely                   3566\n",
       "Following Too Closely              2541\n",
       "Name: CONTRIBUTING FACTOR VEHICLE 1, dtype: int64"
      ]
     },
     "execution_count": 87,
     "metadata": {},
     "output_type": "execute_result"
    }
   ],
   "source": [
    "nyc_small[(nyc_small.BOROUGH == 'QUEENS')]['CONTRIBUTING FACTOR VEHICLE 1'].value_counts()\n",
    "\n",
    "# you can also use a group by (to avoid the pandas value_counts function)\n",
    "\n",
    "nyc_small[(nyc_small.BOROUGH == 'QUEENS')].groupby(\n",
    "    'CONTRIBUTING FACTOR VEHICLE 1'\n",
    ")['CONTRIBUTING FACTOR VEHICLE 1'].count().sort_values(ascending=False).head(5)"
   ]
  },
  {
   "cell_type": "code",
   "execution_count": null,
   "metadata": {
    "colab": {
     "base_uri": "https://localhost:8080/"
    },
    "id": "lQk1hrliH3aP",
    "outputId": "6159a052-9112-41ee-a72f-f346320cbf94"
   },
   "outputs": [
    {
     "name": "stdout",
     "output_type": "stream",
     "text": [
      "+-----------------------------+-----+\n",
      "|CONTRIBUTING FACTOR VEHICLE 1|count|\n",
      "+-----------------------------+-----+\n",
      "|                  Unspecified|25758|\n",
      "|         Driver Inattentio...|14987|\n",
      "|         Failure to Yield ...| 5957|\n",
      "|             Backing Unsafely| 3566|\n",
      "|         Following Too Clo...| 2541|\n",
      "+-----------------------------+-----+\n",
      "only showing top 5 rows\n",
      "\n"
     ]
    }
   ],
   "source": [
    "## Spark?\n",
    "from pyspark.sql.functions import col\n",
    "df3_ = sdf_small.filter(sdf_small.BOROUGH == \"QUEENS\")\n",
    "df3 = df3_.groupBy(\"CONTRIBUTING FACTOR VEHICLE 1\").count().sort(desc(\"count\"))  \n",
    "df3.show(5)\n",
    "\n"
   ]
  },
  {
   "cell_type": "markdown",
   "metadata": {
    "id": "43TpTxH9H3aQ"
   },
   "source": [
    "# Question 4"
   ]
  },
  {
   "cell_type": "markdown",
   "metadata": {
    "id": "ReHEsGQUH3aQ"
   },
   "source": [
    "> _What is the average number or injuries for specific cars driving in specific suburbs_\n"
   ]
  },
  {
   "cell_type": "code",
   "execution_count": null,
   "metadata": {
    "colab": {
     "base_uri": "https://localhost:8080/"
    },
    "id": "jhP1GrUXH3aQ",
    "outputId": "8a4c9e25-44b0-4300-beb4-bc7c6bbd2846"
   },
   "outputs": [
    {
     "data": {
      "text/plain": [
       "VEHICLE TYPE CODE 1  BOROUGH  \n",
       "12 passage           BROOKLYN     5.0\n",
       "amb                  MANHATTAN    4.0\n",
       "PICKUP               BRONX        4.0\n",
       "Name: NUMBER OF PERSONS INJURED, dtype: float64"
      ]
     },
     "execution_count": 89,
     "metadata": {},
     "output_type": "execute_result"
    }
   ],
   "source": [
    "nyc_small.groupby(['VEHICLE TYPE CODE 1', 'BOROUGH'])['NUMBER OF PERSONS INJURED'].mean().sort_values(ascending=False).head(3)"
   ]
  },
  {
   "cell_type": "code",
   "execution_count": null,
   "metadata": {
    "id": "0btbvo0FH3aQ"
   },
   "outputs": [],
   "source": [
    "## Spark?\n",
    "from pyspark.sql.functions import sum,avg,max, col\n"
   ]
  },
  {
   "cell_type": "code",
   "execution_count": null,
   "metadata": {
    "colab": {
     "base_uri": "https://localhost:8080/"
    },
    "id": "FpxuktRlcdAB",
    "outputId": "0a6384df-5d46-49da-e873-39ecf09ae90d"
   },
   "outputs": [
    {
     "name": "stdout",
     "output_type": "stream",
     "text": [
      "+-------------------+---------+------------------------------+\n",
      "|VEHICLE TYPE CODE 1|  BOROUGH|MEAN NUMBER OF PERSONS INJURED|\n",
      "+-------------------+---------+------------------------------+\n",
      "|         12 passage| BROOKLYN|                           5.0|\n",
      "|              BACKH|   QUEENS|                           4.0|\n",
      "|                amb|MANHATTAN|                           4.0|\n",
      "|                suv|   QUEENS|                           4.0|\n",
      "|              PASSE|         |                           4.0|\n",
      "+-------------------+---------+------------------------------+\n",
      "only showing top 5 rows\n",
      "\n"
     ]
    }
   ],
   "source": [
    "## Spark\n",
    "df4 = sdf_small.select('BOROUGH', 'VEHICLE TYPE CODE 1','NUMBER OF PERSONS INJURED')\n",
    "df_ = df4.groupBy('VEHICLE TYPE CODE 1', 'BOROUGH')\\\n",
    ".agg(f.avg('NUMBER OF PERSONS INJURED').alias('MEAN NUMBER OF PERSONS INJURED'))\\\n",
    ".orderBy('MEAN NUMBER OF PERSONS INJURED', ascending=False)\n",
    "df_.show(5)"
   ]
  }
 ],
 "metadata": {
  "colab": {
   "collapsed_sections": [],
   "name": "simple_pandas_pyspark_agg.ipynb",
   "provenance": []
  },
  "kernelspec": {
   "display_name": "Python 3 (ipykernel)",
   "language": "python",
   "name": "python3"
  },
  "language_info": {
   "codemirror_mode": {
    "name": "ipython",
    "version": 3
   },
   "file_extension": ".py",
   "mimetype": "text/x-python",
   "name": "python",
   "nbconvert_exporter": "python",
   "pygments_lexer": "ipython3",
   "version": "3.9.7"
  }
 },
 "nbformat": 4,
 "nbformat_minor": 1
}
